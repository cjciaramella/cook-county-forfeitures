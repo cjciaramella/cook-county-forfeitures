{
 "cells": [
  {
   "cell_type": "markdown",
   "metadata": {},
   "source": [
    "# Cook County Asset Forfeiture Analysis\n",
    "\n",
    "By CJ Ciaramella\n",
    "\n",
    "*Reason Magazine* conducted an analysis of five years of asset forfeiture data from the Cook County State's Attorney's Office, collected via a Freedom of Information request by [Lucy Parsons Labs](https://github.com/lucyparsons/1505-documents/tree/master/CCSAO). The results [were reported](http://reason.com/blog/2017/06/13/poor-neighborhoods-hit-hardest-by-asset) on June 13, 2017. Here are some of the findings of the analysis, documented below:\n",
    "\n",
    "- There were roughly 23,0000 asset seizures, with a total estimated value of $105 million, by law enforcement in Cook County between 2012 and 2017.\n",
    "\n",
    "- Nearly 1,500 of those seizures were for values of $100 or less.\n",
    "\n",
    "- The most common seized items, besides U.S. currency, were Chevy Impalas.\n",
    "\n",
    "## How we did it"
   ]
  },
  {
   "cell_type": "code",
   "execution_count": 4,
   "metadata": {
    "collapsed": true
   },
   "outputs": [],
   "source": [
    "# import libraries\n",
    "import pandas as pd\n",
    "import numpy as np\n",
    "import xlrd\n",
    "import matplotlib.pyplot as plt\n",
    "plt.style.use('ggplot')\n",
    "from collections import defaultdict"
   ]
  },
  {
   "cell_type": "code",
   "execution_count": 5,
   "metadata": {
    "collapsed": false
   },
   "outputs": [],
   "source": [
    "# Import and sort forfeitures spreadsheet\n",
    "forfeitures = pd.read_excel('cook-county-forfeitures.xlsx')\n",
    "estvalues = forfeitures['EstValue'].dropna()\n",
    "forfvalues = forfeitures['ForfValue'].dropna()\n",
    "vins = forfeitures['Vin'].dropna()\n",
    "ads = forfeitures['AD']\n",
    "cities = forfeitures['SeizeCity']\n",
    "descrips = forfeitures['Descr']\n",
    "\n",
    "estvalue_bins = np.arange(0, 10000, 500)"
   ]
  },
  {
   "cell_type": "markdown",
   "metadata": {},
   "source": [
    "### Get some basic numbers from the dataset first"
   ]
  },
  {
   "cell_type": "code",
   "execution_count": 84,
   "metadata": {
    "collapsed": false
   },
   "outputs": [
    {
     "name": "stdout",
     "output_type": "stream",
     "text": [
      "23106\n"
     ]
    }
   ],
   "source": [
    "# total number of seizures 2012-2017\n",
    "len(forfeitures)"
   ]
  },
  {
   "cell_type": "code",
   "execution_count": 21,
   "metadata": {
    "collapsed": false
   },
   "outputs": [
    {
     "data": {
      "text/plain": [
       "1049.0"
      ]
     },
     "execution_count": 21,
     "metadata": {},
     "output_type": "execute_result"
    }
   ],
   "source": [
    "# median estimated value of a seizure\n",
    "estvalues.median()"
   ]
  },
  {
   "cell_type": "code",
   "execution_count": 20,
   "metadata": {
    "collapsed": false
   },
   "outputs": [
    {
     "data": {
      "text/plain": [
       "4553.416355517019"
      ]
     },
     "execution_count": 20,
     "metadata": {},
     "output_type": "execute_result"
    }
   ],
   "source": [
    "# mean estimated value\n",
    "estvalues.mean()"
   ]
  },
  {
   "cell_type": "code",
   "execution_count": 34,
   "metadata": {
    "collapsed": false
   },
   "outputs": [
    {
     "data": {
      "text/plain": [
       "0    1000.0\n",
       "dtype: float64"
      ]
     },
     "execution_count": 34,
     "metadata": {},
     "output_type": "execute_result"
    }
   ],
   "source": [
    "# mode of estimated values\n",
    "estvalues.mode()"
   ]
  },
  {
   "cell_type": "code",
   "execution_count": 19,
   "metadata": {
    "collapsed": false
   },
   "outputs": [
    {
     "data": {
      "text/plain": [
       "105024548.24000004"
      ]
     },
     "execution_count": 19,
     "metadata": {},
     "output_type": "execute_result"
    }
   ],
   "source": [
    "# total estimated value of all seizures\n",
    "estvalues.sum()"
   ]
  },
  {
   "cell_type": "code",
   "execution_count": 22,
   "metadata": {
    "collapsed": false
   },
   "outputs": [
    {
     "data": {
      "text/plain": [
       "47318608.921000004"
      ]
     },
     "execution_count": 22,
     "metadata": {},
     "output_type": "execute_result"
    }
   ],
   "source": [
    "# total forfeited revenue \n",
    "forfvalues.sum()"
   ]
  },
  {
   "cell_type": "code",
   "execution_count": 24,
   "metadata": {
    "collapsed": false
   },
   "outputs": [
    {
     "data": {
      "text/plain": [
       "12767"
      ]
     },
     "execution_count": 24,
     "metadata": {},
     "output_type": "execute_result"
    }
   ],
   "source": [
    "# number of forfeitures\n",
    "forfvalues.count()"
   ]
  },
  {
   "cell_type": "code",
   "execution_count": 42,
   "metadata": {
    "collapsed": false
   },
   "outputs": [
    {
     "data": {
      "text/plain": [
       "5939"
      ]
     },
     "execution_count": 42,
     "metadata": {},
     "output_type": "execute_result"
    }
   ],
   "source": [
    "# number of seized vehicles\n",
    "vins.count()"
   ]
  },
  {
   "cell_type": "code",
   "execution_count": 40,
   "metadata": {
    "collapsed": false
   },
   "outputs": [
    {
     "data": {
      "text/plain": [
       "A    20933\n",
       "D     2122\n",
       "a        5\n",
       "Name: AD, dtype: int64"
      ]
     },
     "execution_count": 40,
     "metadata": {},
     "output_type": "execute_result"
    }
   ],
   "source": [
    "# number of accepted or declined forfeitures\n",
    "ads.value_counts()"
   ]
  },
  {
   "cell_type": "markdown",
   "metadata": {},
   "source": [
    "### Now look at the distribution of petty seizures"
   ]
  },
  {
   "cell_type": "code",
   "execution_count": 115,
   "metadata": {
    "collapsed": false
   },
   "outputs": [
    {
     "data": {
      "text/plain": [
       "11031"
      ]
     },
     "execution_count": 115,
     "metadata": {},
     "output_type": "execute_result"
    }
   ],
   "source": [
    "# sort and count number of seizures below $1,000\n",
    "bottom = []\n",
    "for value in estvalues:\n",
    "    if value < 1000:\n",
    "        bottom.append(value)\n",
    "len(bottom)"
   ]
  },
  {
   "cell_type": "code",
   "execution_count": 28,
   "metadata": {
    "collapsed": false
   },
   "outputs": [
    {
     "data": {
      "text/plain": [
       "6154"
      ]
     },
     "execution_count": 28,
     "metadata": {},
     "output_type": "execute_result"
    }
   ],
   "source": [
    "# sort and count number of seizures below $500\n",
    "under_five_hundo = []\n",
    "for value in estvalues:\n",
    "    if value < 500:\n",
    "        under_five_hundo.append(value)\n",
    "len(under_five_hundo)"
   ]
  },
  {
   "cell_type": "code",
   "execution_count": 116,
   "metadata": {
    "collapsed": false
   },
   "outputs": [
    {
     "data": {
      "text/plain": [
       "1497"
      ]
     },
     "execution_count": 116,
     "metadata": {},
     "output_type": "execute_result"
    }
   ],
   "source": [
    "# sort and count number of seizures below $100\n",
    "lowest = []\n",
    "for value in estvalues:\n",
    "    if value < 100:\n",
    "        lowest.append(value)\n",
    "len(lowest)"
   ]
  },
  {
   "cell_type": "markdown",
   "metadata": {},
   "source": [
    "### Investigate the values and items further"
   ]
  },
  {
   "cell_type": "code",
   "execution_count": 38,
   "metadata": {
    "collapsed": false
   },
   "outputs": [
    {
     "data": {
      "text/plain": [
       "1000.0    233\n",
       "500.0     179\n",
       "200.0     153\n",
       "100.0     152\n",
       "2000.0    133\n",
       "300.0     118\n",
       "1500.0    101\n",
       "3000.0     96\n",
       "800.0      95\n",
       "700.0      95\n",
       "Name: EstValue, dtype: int64"
      ]
     },
     "execution_count": 38,
     "metadata": {},
     "output_type": "execute_result"
    }
   ],
   "source": [
    "# most common values seized\n",
    "estvalues.value_counts().head(10)"
   ]
  },
  {
   "cell_type": "code",
   "execution_count": 39,
   "metadata": {
    "collapsed": false
   },
   "outputs": [
    {
     "data": {
      "text/plain": [
       "U.S.C.                     16095\n",
       "2004 Pontiac Grand Prix       24\n",
       "2006 Chevrolet Impala         23\n",
       "2004 Chevrolet Impala         22\n",
       "USC                           22\n",
       "2001 Buick Century            19\n",
       "2002 Ford Explorer            19\n",
       "2000 Chevrolet Impala         17\n",
       "2008 Chevrolet Impala         17\n",
       "2002 Chevrolet Impala         16\n",
       "1999 Buick Century            16\n",
       "2003 Ford Explorer            16\n",
       "2007 Chevrolet Impala         16\n",
       "2011 Chevrolet Malibu         16\n",
       "2001 Pontiac Grand Prix       15\n",
       "2003 Ford Taurus              15\n",
       "2001 Ford Taurus              14\n",
       "2000 Ford Taurus              14\n",
       "2005 Chevrolet Impala         14\n",
       "2003 Chevrolet Impala         14\n",
       "Name: Descr, dtype: int64"
      ]
     },
     "execution_count": 39,
     "metadata": {},
     "output_type": "execute_result"
    }
   ],
   "source": [
    "# top 20 most common seizures by description\n",
    "descrips.value_counts().head(20)"
   ]
  },
  {
   "cell_type": "markdown",
   "metadata": {},
   "source": [
    "### Break it down by city"
   ]
  },
  {
   "cell_type": "code",
   "execution_count": 27,
   "metadata": {
    "collapsed": false
   },
   "outputs": [
    {
     "data": {
      "text/plain": [
       "Chicago            16693\n",
       "Cook County of       389\n",
       "Harvey               225\n",
       "Calumet City         203\n",
       "Lansing              193\n",
       "Evanston             173\n",
       "Cicero               171\n",
       "Orland Park          169\n",
       "Forest Park          158\n",
       "Matteson             154\n",
       "Berwyn               148\n",
       "Maywood              138\n",
       "Bridgeview           136\n",
       "Bellwood             128\n",
       "Des Plaines          126\n",
       "Chicago Heights      122\n",
       "Dolton               119\n",
       "Oak Lawn             118\n",
       "Park Forest          100\n",
       "Franklin Park         94\n",
       "Name: SeizeCity, dtype: int64"
      ]
     },
     "execution_count": 27,
     "metadata": {},
     "output_type": "execute_result"
    }
   ],
   "source": [
    "# top number of seizures by city\n",
    "cities.value_counts().head(20)"
   ]
  },
  {
   "cell_type": "code",
   "execution_count": 41,
   "metadata": {
    "collapsed": false
   },
   "outputs": [
    {
     "data": {
      "text/html": [
       "<div>\n",
       "<table border=\"1\" class=\"dataframe\">\n",
       "  <thead>\n",
       "    <tr style=\"text-align: right;\">\n",
       "      <th></th>\n",
       "      <th>SeizeCity</th>\n",
       "      <th>EstValue</th>\n",
       "    </tr>\n",
       "  </thead>\n",
       "  <tbody>\n",
       "    <tr>\n",
       "      <th>31</th>\n",
       "      <td>Chicago</td>\n",
       "      <td>73473093.15</td>\n",
       "    </tr>\n",
       "    <tr>\n",
       "      <th>49</th>\n",
       "      <td>Cook County of</td>\n",
       "      <td>2392977.26</td>\n",
       "    </tr>\n",
       "    <tr>\n",
       "      <th>41</th>\n",
       "      <td>Cicero</td>\n",
       "      <td>1896744.01</td>\n",
       "    </tr>\n",
       "    <tr>\n",
       "      <th>162</th>\n",
       "      <td>Oak Lawn</td>\n",
       "      <td>1574290.36</td>\n",
       "    </tr>\n",
       "    <tr>\n",
       "      <th>137</th>\n",
       "      <td>McCook</td>\n",
       "      <td>1240751.00</td>\n",
       "    </tr>\n",
       "    <tr>\n",
       "      <th>78</th>\n",
       "      <td>Evanston</td>\n",
       "      <td>1153502.37</td>\n",
       "    </tr>\n",
       "    <tr>\n",
       "      <th>29</th>\n",
       "      <td>Calumet City</td>\n",
       "      <td>806756.58</td>\n",
       "    </tr>\n",
       "    <tr>\n",
       "      <th>204</th>\n",
       "      <td>Schaumburg</td>\n",
       "      <td>774594.85</td>\n",
       "    </tr>\n",
       "    <tr>\n",
       "      <th>16</th>\n",
       "      <td>Berwyn</td>\n",
       "      <td>769040.20</td>\n",
       "    </tr>\n",
       "    <tr>\n",
       "      <th>174</th>\n",
       "      <td>Orland Park</td>\n",
       "      <td>653054.50</td>\n",
       "    </tr>\n",
       "    <tr>\n",
       "      <th>185</th>\n",
       "      <td>Park Ridge/Chicago</td>\n",
       "      <td>652713.82</td>\n",
       "    </tr>\n",
       "    <tr>\n",
       "      <th>88</th>\n",
       "      <td>Forest Park</td>\n",
       "      <td>634758.74</td>\n",
       "    </tr>\n",
       "    <tr>\n",
       "      <th>106</th>\n",
       "      <td>Hickory Hills</td>\n",
       "      <td>617804.75</td>\n",
       "    </tr>\n",
       "    <tr>\n",
       "      <th>60</th>\n",
       "      <td>Des Plaines</td>\n",
       "      <td>617724.25</td>\n",
       "    </tr>\n",
       "    <tr>\n",
       "      <th>100</th>\n",
       "      <td>Harvey</td>\n",
       "      <td>585535.55</td>\n",
       "    </tr>\n",
       "    <tr>\n",
       "      <th>164</th>\n",
       "      <td>Oak Park</td>\n",
       "      <td>583162.01</td>\n",
       "    </tr>\n",
       "    <tr>\n",
       "      <th>63</th>\n",
       "      <td>Dolton</td>\n",
       "      <td>516907.13</td>\n",
       "    </tr>\n",
       "    <tr>\n",
       "      <th>133</th>\n",
       "      <td>Matteson</td>\n",
       "      <td>510601.82</td>\n",
       "    </tr>\n",
       "    <tr>\n",
       "      <th>43</th>\n",
       "      <td>Columbus</td>\n",
       "      <td>495300.61</td>\n",
       "    </tr>\n",
       "    <tr>\n",
       "      <th>125</th>\n",
       "      <td>Lansing</td>\n",
       "      <td>443966.03</td>\n",
       "    </tr>\n",
       "  </tbody>\n",
       "</table>\n",
       "</div>"
      ],
      "text/plain": [
       "              SeizeCity     EstValue\n",
       "31              Chicago  73473093.15\n",
       "49       Cook County of   2392977.26\n",
       "41               Cicero   1896744.01\n",
       "162            Oak Lawn   1574290.36\n",
       "137              McCook   1240751.00\n",
       "78             Evanston   1153502.37\n",
       "29         Calumet City    806756.58\n",
       "204          Schaumburg    774594.85\n",
       "16               Berwyn    769040.20\n",
       "174         Orland Park    653054.50\n",
       "185  Park Ridge/Chicago    652713.82\n",
       "88          Forest Park    634758.74\n",
       "106       Hickory Hills    617804.75\n",
       "60          Des Plaines    617724.25\n",
       "100              Harvey    585535.55\n",
       "164            Oak Park    583162.01\n",
       "63               Dolton    516907.13\n",
       "133            Matteson    510601.82\n",
       "43             Columbus    495300.61\n",
       "125             Lansing    443966.03"
      ]
     },
     "execution_count": 41,
     "metadata": {},
     "output_type": "execute_result"
    }
   ],
   "source": [
    "# group by city and sort by total amount seized\n",
    "forfeitures.groupby(\n",
    "    ['SeizeCity']\n",
    "                   ).EstValue.sum().reset_index().sort_values(\"EstValue\", ascending=False).head(20)"
   ]
  },
  {
   "cell_type": "markdown",
   "metadata": {},
   "source": [
    "### Make a histogram showing the distribution of seizure values"
   ]
  },
  {
   "cell_type": "code",
   "execution_count": 4,
   "metadata": {
    "collapsed": false
   },
   "outputs": [],
   "source": [
    "# Plot histogram of estimated values\n",
    "plt.hist(estvalues, bins = estvalue_bins)\n",
    "plt.xlabel('Estimated Value of Item')\n",
    "plt.ylabel('Number of Seizures')\n",
    "plt.title('Number of Seizures by Value')\n",
    "plt.grid(True)"
   ]
  },
  {
   "cell_type": "code",
   "execution_count": 5,
   "metadata": {
    "collapsed": true
   },
   "outputs": [],
   "source": [
    "plt.show()"
   ]
  },
  {
   "cell_type": "markdown",
   "metadata": {},
   "source": [
    "![histogram](cook-county-seizures-by-value.png \"Histogram\")"
   ]
  }
 ],
 "metadata": {
  "kernelspec": {
   "display_name": "Python 3",
   "language": "python",
   "name": "python3"
  },
  "language_info": {
   "codemirror_mode": {
    "name": "ipython",
    "version": 3
   },
   "file_extension": ".py",
   "mimetype": "text/x-python",
   "name": "python",
   "nbconvert_exporter": "python",
   "pygments_lexer": "ipython3",
   "version": "3.5.3"
  }
 },
 "nbformat": 4,
 "nbformat_minor": 0
}
