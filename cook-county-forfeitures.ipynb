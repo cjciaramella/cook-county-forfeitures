{
 "cells": [
  {
   "cell_type": "code",
   "execution_count": 25,
   "metadata": {
    "collapsed": true
   },
   "outputs": [],
   "source": [
    "import pandas as pd\n",
    "import numpy as np\n",
    "import xlrd\n",
    "import matplotlib.pyplot as plt\n",
    "plt.style.use('ggplot')\n",
    "from collections import defaultdict"
   ]
  },
  {
   "cell_type": "code",
   "execution_count": 26,
   "metadata": {
    "collapsed": true
   },
   "outputs": [],
   "source": [
    "# leaders function\n",
    "def leaders(xs, top=10):\n",
    "    counts = defaultdict(int)\n",
    "    for x in xs:\n",
    "        counts[x] += 1\n",
    "    return sorted(counts.items(), reverse=True, key=lambda tup: tup[1])[:top]"
   ]
  },
  {
   "cell_type": "code",
   "execution_count": 27,
   "metadata": {
    "collapsed": false
   },
   "outputs": [],
   "source": [
    "# Import and sort\n",
    "forfeitures = pd.read_excel('cook-county-forfeitures.xlsx')\n",
    "estvalues = forfeitures['EstValue'].dropna()\n",
    "forfvalues = forfeitures['ForfValue'].dropna()\n",
    "vins = forfeitures['Vin'].dropna()\n",
    "ads = forfeitures['AD']\n",
    "cities = forfeitures['SeizeCity']\n",
    "descrips = forfeitures['Descr']\n",
    "\n",
    "estvalue_bins = np.arange(0, 10000, 500)"
   ]
  },
  {
   "cell_type": "code",
   "execution_count": 84,
   "metadata": {
    "collapsed": false
   },
   "outputs": [
    {
     "name": "stdout",
     "output_type": "stream",
     "text": [
      "23106\n"
     ]
    }
   ],
   "source": [
    "# number of seizures 2012-2017\n",
    "len(forfeitures)"
   ]
  },
  {
   "cell_type": "code",
   "execution_count": 21,
   "metadata": {
    "collapsed": false
   },
   "outputs": [
    {
     "data": {
      "text/plain": [
       "1049.0"
      ]
     },
     "execution_count": 21,
     "metadata": {},
     "output_type": "execute_result"
    }
   ],
   "source": [
    "# median estimated value of a seizure\n",
    "estvalues.median()"
   ]
  },
  {
   "cell_type": "code",
   "execution_count": 20,
   "metadata": {
    "collapsed": false
   },
   "outputs": [
    {
     "data": {
      "text/plain": [
       "4553.416355517019"
      ]
     },
     "execution_count": 20,
     "metadata": {},
     "output_type": "execute_result"
    }
   ],
   "source": [
    "# mean estimated value\n",
    "estvalues.mean()"
   ]
  },
  {
   "cell_type": "code",
   "execution_count": 34,
   "metadata": {
    "collapsed": false
   },
   "outputs": [
    {
     "data": {
      "text/plain": [
       "0    1000.0\n",
       "dtype: float64"
      ]
     },
     "execution_count": 34,
     "metadata": {},
     "output_type": "execute_result"
    }
   ],
   "source": [
    "# mode of estimated values\n",
    "estvalues.mode()"
   ]
  },
  {
   "cell_type": "code",
   "execution_count": 19,
   "metadata": {
    "collapsed": false
   },
   "outputs": [
    {
     "data": {
      "text/plain": [
       "105024548.24000004"
      ]
     },
     "execution_count": 19,
     "metadata": {},
     "output_type": "execute_result"
    }
   ],
   "source": [
    "# total estimated value of all seizures\n",
    "estvalues.sum()"
   ]
  },
  {
   "cell_type": "code",
   "execution_count": 22,
   "metadata": {
    "collapsed": false
   },
   "outputs": [
    {
     "data": {
      "text/plain": [
       "47318608.921000004"
      ]
     },
     "execution_count": 22,
     "metadata": {},
     "output_type": "execute_result"
    }
   ],
   "source": [
    "# total forfeited revenue \n",
    "forfvalues.sum()"
   ]
  },
  {
   "cell_type": "code",
   "execution_count": 24,
   "metadata": {
    "collapsed": false
   },
   "outputs": [
    {
     "data": {
      "text/plain": [
       "12767"
      ]
     },
     "execution_count": 24,
     "metadata": {},
     "output_type": "execute_result"
    }
   ],
   "source": [
    "# number of forfeitures\n",
    "forfvalues.count()"
   ]
  },
  {
   "cell_type": "code",
   "execution_count": 109,
   "metadata": {
    "collapsed": false
   },
   "outputs": [
    {
     "data": {
      "text/plain": [
       "16693"
      ]
     },
     "execution_count": 109,
     "metadata": {},
     "output_type": "execute_result"
    }
   ],
   "source": [
    "# number of forfeitures in Chicago\n",
    "len(forfeitures.groupby(['SeizeCity']).groups['Chicago'])"
   ]
  },
  {
   "cell_type": "code",
   "execution_count": 115,
   "metadata": {
    "collapsed": false
   },
   "outputs": [
    {
     "data": {
      "text/plain": [
       "11031"
      ]
     },
     "execution_count": 115,
     "metadata": {},
     "output_type": "execute_result"
    }
   ],
   "source": [
    "# sort and count number of seizures below $1,000\n",
    "bottom = []\n",
    "for value in estvalues:\n",
    "    if value < 1000:\n",
    "        bottom.append(value)\n",
    "len(bottom)"
   ]
  },
  {
   "cell_type": "code",
   "execution_count": 116,
   "metadata": {
    "collapsed": false
   },
   "outputs": [
    {
     "data": {
      "text/plain": [
       "1497"
      ]
     },
     "execution_count": 116,
     "metadata": {},
     "output_type": "execute_result"
    }
   ],
   "source": [
    "# sort and count number of seizures below $100\n",
    "lowest = []\n",
    "for value in estvalues:\n",
    "    if value < 100:\n",
    "        lowest.append(value)\n",
    "len(lowest)"
   ]
  },
  {
   "cell_type": "code",
   "execution_count": 29,
   "metadata": {
    "collapsed": false
   },
   "outputs": [
    {
     "data": {
      "text/plain": [
       "5939"
      ]
     },
     "execution_count": 29,
     "metadata": {},
     "output_type": "execute_result"
    }
   ],
   "source": [
    "# number of seized vehicles\n",
    "vins.count()"
   ]
  },
  {
   "cell_type": "code",
   "execution_count": 20,
   "metadata": {
    "collapsed": false
   },
   "outputs": [
    {
     "data": {
      "text/plain": [
       "[('A', 20933), ('D', 2122), (nan, 46), ('a', 5)]"
      ]
     },
     "execution_count": 20,
     "metadata": {},
     "output_type": "execute_result"
    }
   ],
   "source": [
    "# number of accepted or declined forfeitures\n",
    "leaders(ads)"
   ]
  },
  {
   "cell_type": "code",
   "execution_count": 5,
   "metadata": {
    "collapsed": false
   },
   "outputs": [
    {
     "data": {
      "text/plain": [
       "[('Chicago', 16693),\n",
       " ('Cook County of', 389),\n",
       " ('Harvey', 225),\n",
       " ('Calumet City', 203),\n",
       " ('Lansing', 193),\n",
       " ('Evanston', 173),\n",
       " ('Cicero', 171),\n",
       " ('Orland Park', 169),\n",
       " ('Forest Park', 158),\n",
       " ('Matteson', 154)]"
      ]
     },
     "execution_count": 5,
     "metadata": {},
     "output_type": "execute_result"
    }
   ],
   "source": [
    "# top number of seizures by city\n",
    "leaders(cities)"
   ]
  },
  {
   "cell_type": "code",
   "execution_count": 6,
   "metadata": {
    "collapsed": false
   },
   "outputs": [
    {
     "data": {
      "text/plain": [
       "[('U.S.C.', 16095),\n",
       " ('2004 Pontiac Grand Prix', 24),\n",
       " ('2006 Chevrolet Impala', 23),\n",
       " ('2004 Chevrolet Impala', 22),\n",
       " ('USC', 22),\n",
       " ('2002 Ford Explorer', 19),\n",
       " ('2001 Buick Century', 19),\n",
       " ('2000 Chevrolet Impala', 17),\n",
       " ('2008 Chevrolet Impala', 17),\n",
       " ('2007 Chevrolet Impala', 16)]"
      ]
     },
     "execution_count": 6,
     "metadata": {},
     "output_type": "execute_result"
    }
   ],
   "source": [
    "# most common seizures by description\n",
    "leaders(descrips)"
   ]
  },
  {
   "cell_type": "code",
   "execution_count": 4,
   "metadata": {
    "collapsed": false
   },
   "outputs": [],
   "source": [
    "# Plot histogram of estimated values\n",
    "plt.hist(estvalues, bins = estvalue_bins)\n",
    "plt.xlabel('Estimated Value of Item')\n",
    "plt.ylabel('Number of Seizures')\n",
    "plt.title('Number of Seizures by Value')\n",
    "plt.grid(True)"
   ]
  },
  {
   "cell_type": "code",
   "execution_count": 5,
   "metadata": {
    "collapsed": true
   },
   "outputs": [],
   "source": [
    "plt.show()"
   ]
  },
  {
   "cell_type": "code",
   "execution_count": 30,
   "metadata": {
    "collapsed": false
   },
   "outputs": [
    {
     "data": {
      "text/plain": [
       "[(1000.0, 233),\n",
       " (500.0, 179),\n",
       " (200.0, 153),\n",
       " (100.0, 152),\n",
       " (2000.0, 133),\n",
       " (300.0, 118),\n",
       " (1500.0, 101),\n",
       " (3000.0, 96),\n",
       " (700.0, 95),\n",
       " (800.0, 95)]"
      ]
     },
     "execution_count": 30,
     "metadata": {},
     "output_type": "execute_result"
    }
   ],
   "source": [
    "# most common value seized\n",
    "leaders(estvalues)"
   ]
  },
  {
   "cell_type": "code",
   "execution_count": 31,
   "metadata": {
    "collapsed": false
   },
   "outputs": [
    {
     "data": {
      "text/plain": [
       "6154"
      ]
     },
     "execution_count": 31,
     "metadata": {},
     "output_type": "execute_result"
    }
   ],
   "source": [
    "# sort and count number of seizures below $500\n",
    "under_five_hundo = []\n",
    "for value in estvalues:\n",
    "    if value < 500:\n",
    "        under_five_hundo.append(value)\n",
    "len(under_five_hundo)"
   ]
  },
  {
   "cell_type": "code",
   "execution_count": null,
   "metadata": {
    "collapsed": false
   },
   "outputs": [],
   "source": []
  },
  {
   "cell_type": "code",
   "execution_count": null,
   "metadata": {
    "collapsed": true
   },
   "outputs": [],
   "source": []
  }
 ],
 "metadata": {
  "kernelspec": {
   "display_name": "Python 3",
   "language": "python",
   "name": "python3"
  },
  "language_info": {
   "codemirror_mode": {
    "name": "ipython",
    "version": 3
   },
   "file_extension": ".py",
   "mimetype": "text/x-python",
   "name": "python",
   "nbconvert_exporter": "python",
   "pygments_lexer": "ipython3",
   "version": "3.5.3"
  }
 },
 "nbformat": 4,
 "nbformat_minor": 0
}
