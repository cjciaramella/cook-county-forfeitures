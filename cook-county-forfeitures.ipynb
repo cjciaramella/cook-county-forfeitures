{
 "cells": [
  {
   "cell_type": "code",
   "execution_count": 4,
   "metadata": {
    "collapsed": true
   },
   "outputs": [],
   "source": [
    "import pandas as pd\n",
    "import numpy as np\n",
    "import xlrd\n",
    "import matplotlib.pyplot as plt\n",
    "plt.style.use('ggplot')\n",
    "from collections import defaultdict"
   ]
  },
  {
   "cell_type": "code",
   "execution_count": 26,
   "metadata": {
    "collapsed": true
   },
   "outputs": [],
   "source": [
    "# leaders function\n",
    "def leaders(xs, top=10):\n",
    "    counts = defaultdict(int)\n",
    "    for x in xs:\n",
    "        counts[x] += 1\n",
    "    return sorted(counts.items(), reverse=True, key=lambda tup: tup[1])[:top]"
   ]
  },
  {
   "cell_type": "code",
   "execution_count": 5,
   "metadata": {
    "collapsed": false
   },
   "outputs": [],
   "source": [
    "# Import and sort\n",
    "forfeitures = pd.read_excel('cook-county-forfeitures.xlsx')\n",
    "estvalues = forfeitures['EstValue'].dropna()\n",
    "forfvalues = forfeitures['ForfValue'].dropna()\n",
    "vins = forfeitures['Vin'].dropna()\n",
    "ads = forfeitures['AD']\n",
    "cities = forfeitures['SeizeCity']\n",
    "descrips = forfeitures['Descr']\n",
    "\n",
    "estvalue_bins = np.arange(0, 10000, 500)"
   ]
  },
  {
   "cell_type": "code",
   "execution_count": 84,
   "metadata": {
    "collapsed": false
   },
   "outputs": [
    {
     "name": "stdout",
     "output_type": "stream",
     "text": [
      "23106\n"
     ]
    }
   ],
   "source": [
    "# number of seizures 2012-2017\n",
    "len(forfeitures)"
   ]
  },
  {
   "cell_type": "code",
   "execution_count": 21,
   "metadata": {
    "collapsed": false
   },
   "outputs": [
    {
     "data": {
      "text/plain": [
       "1049.0"
      ]
     },
     "execution_count": 21,
     "metadata": {},
     "output_type": "execute_result"
    }
   ],
   "source": [
    "# median estimated value of a seizure\n",
    "estvalues.median()"
   ]
  },
  {
   "cell_type": "code",
   "execution_count": 20,
   "metadata": {
    "collapsed": false
   },
   "outputs": [
    {
     "data": {
      "text/plain": [
       "4553.416355517019"
      ]
     },
     "execution_count": 20,
     "metadata": {},
     "output_type": "execute_result"
    }
   ],
   "source": [
    "# mean estimated value\n",
    "estvalues.mean()"
   ]
  },
  {
   "cell_type": "code",
   "execution_count": 34,
   "metadata": {
    "collapsed": false
   },
   "outputs": [
    {
     "data": {
      "text/plain": [
       "0    1000.0\n",
       "dtype: float64"
      ]
     },
     "execution_count": 34,
     "metadata": {},
     "output_type": "execute_result"
    }
   ],
   "source": [
    "# mode of estimated values\n",
    "estvalues.mode()"
   ]
  },
  {
   "cell_type": "code",
   "execution_count": 19,
   "metadata": {
    "collapsed": false
   },
   "outputs": [
    {
     "data": {
      "text/plain": [
       "105024548.24000004"
      ]
     },
     "execution_count": 19,
     "metadata": {},
     "output_type": "execute_result"
    }
   ],
   "source": [
    "# total estimated value of all seizures\n",
    "estvalues.sum()"
   ]
  },
  {
   "cell_type": "code",
   "execution_count": 22,
   "metadata": {
    "collapsed": false
   },
   "outputs": [
    {
     "data": {
      "text/plain": [
       "47318608.921000004"
      ]
     },
     "execution_count": 22,
     "metadata": {},
     "output_type": "execute_result"
    }
   ],
   "source": [
    "# total forfeited revenue \n",
    "forfvalues.sum()"
   ]
  },
  {
   "cell_type": "code",
   "execution_count": 24,
   "metadata": {
    "collapsed": false
   },
   "outputs": [
    {
     "data": {
      "text/plain": [
       "12767"
      ]
     },
     "execution_count": 24,
     "metadata": {},
     "output_type": "execute_result"
    }
   ],
   "source": [
    "# number of forfeitures\n",
    "forfvalues.count()"
   ]
  },
  {
   "cell_type": "code",
   "execution_count": 109,
   "metadata": {
    "collapsed": false
   },
   "outputs": [
    {
     "data": {
      "text/plain": [
       "16693"
      ]
     },
     "execution_count": 109,
     "metadata": {},
     "output_type": "execute_result"
    }
   ],
   "source": [
    "# number of forfeitures in Chicago\n",
    "len(forfeitures.groupby(['SeizeCity']).groups['Chicago'])"
   ]
  },
  {
   "cell_type": "code",
   "execution_count": 115,
   "metadata": {
    "collapsed": false
   },
   "outputs": [
    {
     "data": {
      "text/plain": [
       "11031"
      ]
     },
     "execution_count": 115,
     "metadata": {},
     "output_type": "execute_result"
    }
   ],
   "source": [
    "# sort and count number of seizures below $1,000\n",
    "bottom = []\n",
    "for value in estvalues:\n",
    "    if value < 1000:\n",
    "        bottom.append(value)\n",
    "len(bottom)"
   ]
  },
  {
   "cell_type": "code",
   "execution_count": 116,
   "metadata": {
    "collapsed": false
   },
   "outputs": [
    {
     "data": {
      "text/plain": [
       "1497"
      ]
     },
     "execution_count": 116,
     "metadata": {},
     "output_type": "execute_result"
    }
   ],
   "source": [
    "# sort and count number of seizures below $100\n",
    "lowest = []\n",
    "for value in estvalues:\n",
    "    if value < 100:\n",
    "        lowest.append(value)\n",
    "len(lowest)"
   ]
  },
  {
   "cell_type": "code",
   "execution_count": 29,
   "metadata": {
    "collapsed": false
   },
   "outputs": [
    {
     "data": {
      "text/plain": [
       "5939"
      ]
     },
     "execution_count": 29,
     "metadata": {},
     "output_type": "execute_result"
    }
   ],
   "source": [
    "# number of seized vehicles\n",
    "vins.count()"
   ]
  },
  {
   "cell_type": "code",
   "execution_count": 20,
   "metadata": {
    "collapsed": false
   },
   "outputs": [
    {
     "data": {
      "text/plain": [
       "[('A', 20933), ('D', 2122), (nan, 46), ('a', 5)]"
      ]
     },
     "execution_count": 20,
     "metadata": {},
     "output_type": "execute_result"
    }
   ],
   "source": [
    "# number of accepted or declined forfeitures\n",
    "leaders(ads)"
   ]
  },
  {
   "cell_type": "code",
   "execution_count": 5,
   "metadata": {
    "collapsed": false
   },
   "outputs": [
    {
     "data": {
      "text/plain": [
       "[('Chicago', 16693),\n",
       " ('Cook County of', 389),\n",
       " ('Harvey', 225),\n",
       " ('Calumet City', 203),\n",
       " ('Lansing', 193),\n",
       " ('Evanston', 173),\n",
       " ('Cicero', 171),\n",
       " ('Orland Park', 169),\n",
       " ('Forest Park', 158),\n",
       " ('Matteson', 154)]"
      ]
     },
     "execution_count": 5,
     "metadata": {},
     "output_type": "execute_result"
    }
   ],
   "source": [
    "# top number of seizures by city\n",
    "leaders(cities)"
   ]
  },
  {
   "cell_type": "code",
   "execution_count": 6,
   "metadata": {
    "collapsed": false
   },
   "outputs": [
    {
     "data": {
      "text/plain": [
       "[('U.S.C.', 16095),\n",
       " ('2004 Pontiac Grand Prix', 24),\n",
       " ('2006 Chevrolet Impala', 23),\n",
       " ('2004 Chevrolet Impala', 22),\n",
       " ('USC', 22),\n",
       " ('2002 Ford Explorer', 19),\n",
       " ('2001 Buick Century', 19),\n",
       " ('2000 Chevrolet Impala', 17),\n",
       " ('2008 Chevrolet Impala', 17),\n",
       " ('2007 Chevrolet Impala', 16)]"
      ]
     },
     "execution_count": 6,
     "metadata": {},
     "output_type": "execute_result"
    }
   ],
   "source": [
    "# most common seizures by description\n",
    "leaders(descrips)"
   ]
  },
  {
   "cell_type": "code",
   "execution_count": 4,
   "metadata": {
    "collapsed": false
   },
   "outputs": [],
   "source": [
    "# Plot histogram of estimated values\n",
    "plt.hist(estvalues, bins = estvalue_bins)\n",
    "plt.xlabel('Estimated Value of Item')\n",
    "plt.ylabel('Number of Seizures')\n",
    "plt.title('Number of Seizures by Value')\n",
    "plt.grid(True)"
   ]
  },
  {
   "cell_type": "code",
   "execution_count": 5,
   "metadata": {
    "collapsed": true
   },
   "outputs": [],
   "source": [
    "plt.show()"
   ]
  },
  {
   "cell_type": "code",
   "execution_count": 30,
   "metadata": {
    "collapsed": false
   },
   "outputs": [
    {
     "data": {
      "text/plain": [
       "[(1000.0, 233),\n",
       " (500.0, 179),\n",
       " (200.0, 153),\n",
       " (100.0, 152),\n",
       " (2000.0, 133),\n",
       " (300.0, 118),\n",
       " (1500.0, 101),\n",
       " (3000.0, 96),\n",
       " (700.0, 95),\n",
       " (800.0, 95)]"
      ]
     },
     "execution_count": 30,
     "metadata": {},
     "output_type": "execute_result"
    }
   ],
   "source": [
    "# most common value seized\n",
    "leaders(estvalues)"
   ]
  },
  {
   "cell_type": "code",
   "execution_count": 31,
   "metadata": {
    "collapsed": false
   },
   "outputs": [
    {
     "data": {
      "text/plain": [
       "6154"
      ]
     },
     "execution_count": 31,
     "metadata": {},
     "output_type": "execute_result"
    }
   ],
   "source": [
    "# sort and count number of seizures below $500\n",
    "under_five_hundo = []\n",
    "for value in estvalues:\n",
    "    if value < 500:\n",
    "        under_five_hundo.append(value)\n",
    "len(under_five_hundo)"
   ]
  },
  {
   "cell_type": "code",
   "execution_count": 9,
   "metadata": {
    "collapsed": false
   },
   "outputs": [
    {
     "data": {
      "text/html": [
       "<div>\n",
       "<table border=\"1\" class=\"dataframe\">\n",
       "  <thead>\n",
       "    <tr style=\"text-align: right;\">\n",
       "      <th></th>\n",
       "      <th>SeizeCity</th>\n",
       "      <th>EstValue</th>\n",
       "    </tr>\n",
       "  </thead>\n",
       "  <tbody>\n",
       "    <tr>\n",
       "      <th>31</th>\n",
       "      <td>Chicago</td>\n",
       "      <td>73473093.15</td>\n",
       "    </tr>\n",
       "    <tr>\n",
       "      <th>49</th>\n",
       "      <td>Cook County of</td>\n",
       "      <td>2392977.26</td>\n",
       "    </tr>\n",
       "    <tr>\n",
       "      <th>41</th>\n",
       "      <td>Cicero</td>\n",
       "      <td>1896744.01</td>\n",
       "    </tr>\n",
       "    <tr>\n",
       "      <th>162</th>\n",
       "      <td>Oak Lawn</td>\n",
       "      <td>1574290.36</td>\n",
       "    </tr>\n",
       "    <tr>\n",
       "      <th>137</th>\n",
       "      <td>McCook</td>\n",
       "      <td>1240751.00</td>\n",
       "    </tr>\n",
       "    <tr>\n",
       "      <th>78</th>\n",
       "      <td>Evanston</td>\n",
       "      <td>1153502.37</td>\n",
       "    </tr>\n",
       "    <tr>\n",
       "      <th>29</th>\n",
       "      <td>Calumet City</td>\n",
       "      <td>806756.58</td>\n",
       "    </tr>\n",
       "    <tr>\n",
       "      <th>204</th>\n",
       "      <td>Schaumburg</td>\n",
       "      <td>774594.85</td>\n",
       "    </tr>\n",
       "    <tr>\n",
       "      <th>16</th>\n",
       "      <td>Berwyn</td>\n",
       "      <td>769040.20</td>\n",
       "    </tr>\n",
       "    <tr>\n",
       "      <th>174</th>\n",
       "      <td>Orland Park</td>\n",
       "      <td>653054.50</td>\n",
       "    </tr>\n",
       "    <tr>\n",
       "      <th>185</th>\n",
       "      <td>Park Ridge/Chicago</td>\n",
       "      <td>652713.82</td>\n",
       "    </tr>\n",
       "    <tr>\n",
       "      <th>88</th>\n",
       "      <td>Forest Park</td>\n",
       "      <td>634758.74</td>\n",
       "    </tr>\n",
       "    <tr>\n",
       "      <th>106</th>\n",
       "      <td>Hickory Hills</td>\n",
       "      <td>617804.75</td>\n",
       "    </tr>\n",
       "    <tr>\n",
       "      <th>60</th>\n",
       "      <td>Des Plaines</td>\n",
       "      <td>617724.25</td>\n",
       "    </tr>\n",
       "    <tr>\n",
       "      <th>100</th>\n",
       "      <td>Harvey</td>\n",
       "      <td>585535.55</td>\n",
       "    </tr>\n",
       "    <tr>\n",
       "      <th>164</th>\n",
       "      <td>Oak Park</td>\n",
       "      <td>583162.01</td>\n",
       "    </tr>\n",
       "    <tr>\n",
       "      <th>63</th>\n",
       "      <td>Dolton</td>\n",
       "      <td>516907.13</td>\n",
       "    </tr>\n",
       "    <tr>\n",
       "      <th>133</th>\n",
       "      <td>Matteson</td>\n",
       "      <td>510601.82</td>\n",
       "    </tr>\n",
       "    <tr>\n",
       "      <th>43</th>\n",
       "      <td>Columbus</td>\n",
       "      <td>495300.61</td>\n",
       "    </tr>\n",
       "    <tr>\n",
       "      <th>125</th>\n",
       "      <td>Lansing</td>\n",
       "      <td>443966.03</td>\n",
       "    </tr>\n",
       "    <tr>\n",
       "      <th>34</th>\n",
       "      <td>Chicago Heights</td>\n",
       "      <td>438707.42</td>\n",
       "    </tr>\n",
       "    <tr>\n",
       "      <th>4</th>\n",
       "      <td>Arlington Heights</td>\n",
       "      <td>436548.79</td>\n",
       "    </tr>\n",
       "    <tr>\n",
       "      <th>146</th>\n",
       "      <td>Morton Grove</td>\n",
       "      <td>420980.17</td>\n",
       "    </tr>\n",
       "    <tr>\n",
       "      <th>95</th>\n",
       "      <td>Glenview</td>\n",
       "      <td>384468.89</td>\n",
       "    </tr>\n",
       "    <tr>\n",
       "      <th>177</th>\n",
       "      <td>Palatine</td>\n",
       "      <td>342417.74</td>\n",
       "    </tr>\n",
       "    <tr>\n",
       "      <th>20</th>\n",
       "      <td>Bridgeview</td>\n",
       "      <td>326335.10</td>\n",
       "    </tr>\n",
       "    <tr>\n",
       "      <th>135</th>\n",
       "      <td>Maywood</td>\n",
       "      <td>318035.05</td>\n",
       "    </tr>\n",
       "    <tr>\n",
       "      <th>278</th>\n",
       "      <td>oak lawn</td>\n",
       "      <td>317659.55</td>\n",
       "    </tr>\n",
       "    <tr>\n",
       "      <th>139</th>\n",
       "      <td>Melrose Park</td>\n",
       "      <td>282596.58</td>\n",
       "    </tr>\n",
       "    <tr>\n",
       "      <th>223</th>\n",
       "      <td>Tinley Park</td>\n",
       "      <td>273733.02</td>\n",
       "    </tr>\n",
       "    <tr>\n",
       "      <th>...</th>\n",
       "      <td>...</td>\n",
       "      <td>...</td>\n",
       "    </tr>\n",
       "    <tr>\n",
       "      <th>52</th>\n",
       "      <td>Cool County</td>\n",
       "      <td>625.00</td>\n",
       "    </tr>\n",
       "    <tr>\n",
       "      <th>280</th>\n",
       "      <td>orland hills</td>\n",
       "      <td>593.00</td>\n",
       "    </tr>\n",
       "    <tr>\n",
       "      <th>274</th>\n",
       "      <td>morton grove</td>\n",
       "      <td>576.00</td>\n",
       "    </tr>\n",
       "    <tr>\n",
       "      <th>102</th>\n",
       "      <td>Havover Park</td>\n",
       "      <td>512.00</td>\n",
       "    </tr>\n",
       "    <tr>\n",
       "      <th>239</th>\n",
       "      <td>arlington heights</td>\n",
       "      <td>505.00</td>\n",
       "    </tr>\n",
       "    <tr>\n",
       "      <th>3</th>\n",
       "      <td>Arlington Height</td>\n",
       "      <td>500.00</td>\n",
       "    </tr>\n",
       "    <tr>\n",
       "      <th>85</th>\n",
       "      <td>Flossmor</td>\n",
       "      <td>493.00</td>\n",
       "    </tr>\n",
       "    <tr>\n",
       "      <th>216</th>\n",
       "      <td>Stone Park, IL</td>\n",
       "      <td>486.00</td>\n",
       "    </tr>\n",
       "    <tr>\n",
       "      <th>295</th>\n",
       "      <td>stone park</td>\n",
       "      <td>480.00</td>\n",
       "    </tr>\n",
       "    <tr>\n",
       "      <th>293</th>\n",
       "      <td>schuamburg</td>\n",
       "      <td>470.00</td>\n",
       "    </tr>\n",
       "    <tr>\n",
       "      <th>264</th>\n",
       "      <td>lagrange</td>\n",
       "      <td>454.78</td>\n",
       "    </tr>\n",
       "    <tr>\n",
       "      <th>197</th>\n",
       "      <td>Roselle</td>\n",
       "      <td>434.00</td>\n",
       "    </tr>\n",
       "    <tr>\n",
       "      <th>227</th>\n",
       "      <td>Westcher</td>\n",
       "      <td>422.00</td>\n",
       "    </tr>\n",
       "    <tr>\n",
       "      <th>256</th>\n",
       "      <td>franklin Park</td>\n",
       "      <td>421.00</td>\n",
       "    </tr>\n",
       "    <tr>\n",
       "      <th>36</th>\n",
       "      <td>Chicago Ridgeland</td>\n",
       "      <td>395.00</td>\n",
       "    </tr>\n",
       "    <tr>\n",
       "      <th>247</th>\n",
       "      <td>calumet city</td>\n",
       "      <td>392.00</td>\n",
       "    </tr>\n",
       "    <tr>\n",
       "      <th>205</th>\n",
       "      <td>Schaumurg</td>\n",
       "      <td>359.00</td>\n",
       "    </tr>\n",
       "    <tr>\n",
       "      <th>275</th>\n",
       "      <td>mount prospect</td>\n",
       "      <td>335.00</td>\n",
       "    </tr>\n",
       "    <tr>\n",
       "      <th>134</th>\n",
       "      <td>Matthew</td>\n",
       "      <td>325.00</td>\n",
       "    </tr>\n",
       "    <tr>\n",
       "      <th>294</th>\n",
       "      <td>skokie</td>\n",
       "      <td>323.00</td>\n",
       "    </tr>\n",
       "    <tr>\n",
       "      <th>245</th>\n",
       "      <td>brookfield</td>\n",
       "      <td>305.00</td>\n",
       "    </tr>\n",
       "    <tr>\n",
       "      <th>32</th>\n",
       "      <td>Chicago Halsted</td>\n",
       "      <td>294.00</td>\n",
       "    </tr>\n",
       "    <tr>\n",
       "      <th>66</th>\n",
       "      <td>Eglin</td>\n",
       "      <td>256.00</td>\n",
       "    </tr>\n",
       "    <tr>\n",
       "      <th>112</th>\n",
       "      <td>Hoffman estates</td>\n",
       "      <td>224.00</td>\n",
       "    </tr>\n",
       "    <tr>\n",
       "      <th>259</th>\n",
       "      <td>hanover park</td>\n",
       "      <td>204.00</td>\n",
       "    </tr>\n",
       "    <tr>\n",
       "      <th>136</th>\n",
       "      <td>Maywood, IL</td>\n",
       "      <td>176.00</td>\n",
       "    </tr>\n",
       "    <tr>\n",
       "      <th>199</th>\n",
       "      <td>Rvanston</td>\n",
       "      <td>149.45</td>\n",
       "    </tr>\n",
       "    <tr>\n",
       "      <th>243</th>\n",
       "      <td>bridgeview</td>\n",
       "      <td>145.00</td>\n",
       "    </tr>\n",
       "    <tr>\n",
       "      <th>6</th>\n",
       "      <td>BRIDGEVIEW</td>\n",
       "      <td>129.00</td>\n",
       "    </tr>\n",
       "    <tr>\n",
       "      <th>105</th>\n",
       "      <td>Hickory Hill</td>\n",
       "      <td>100.00</td>\n",
       "    </tr>\n",
       "  </tbody>\n",
       "</table>\n",
       "<p>298 rows × 2 columns</p>\n",
       "</div>"
      ],
      "text/plain": [
       "              SeizeCity     EstValue\n",
       "31              Chicago  73473093.15\n",
       "49       Cook County of   2392977.26\n",
       "41               Cicero   1896744.01\n",
       "162            Oak Lawn   1574290.36\n",
       "137              McCook   1240751.00\n",
       "78             Evanston   1153502.37\n",
       "29         Calumet City    806756.58\n",
       "204          Schaumburg    774594.85\n",
       "16               Berwyn    769040.20\n",
       "174         Orland Park    653054.50\n",
       "185  Park Ridge/Chicago    652713.82\n",
       "88          Forest Park    634758.74\n",
       "106       Hickory Hills    617804.75\n",
       "60          Des Plaines    617724.25\n",
       "100              Harvey    585535.55\n",
       "164            Oak Park    583162.01\n",
       "63               Dolton    516907.13\n",
       "133            Matteson    510601.82\n",
       "43             Columbus    495300.61\n",
       "125             Lansing    443966.03\n",
       "34      Chicago Heights    438707.42\n",
       "4     Arlington Heights    436548.79\n",
       "146        Morton Grove    420980.17\n",
       "95             Glenview    384468.89\n",
       "177            Palatine    342417.74\n",
       "20           Bridgeview    326335.10\n",
       "135             Maywood    318035.05\n",
       "278            oak lawn    317659.55\n",
       "139        Melrose Park    282596.58\n",
       "223         Tinley Park    273733.02\n",
       "..                  ...          ...\n",
       "52          Cool County       625.00\n",
       "280        orland hills       593.00\n",
       "274        morton grove       576.00\n",
       "102        Havover Park       512.00\n",
       "239   arlington heights       505.00\n",
       "3      Arlington Height       500.00\n",
       "85             Flossmor       493.00\n",
       "216      Stone Park, IL       486.00\n",
       "295          stone park       480.00\n",
       "293          schuamburg       470.00\n",
       "264            lagrange       454.78\n",
       "197             Roselle       434.00\n",
       "227            Westcher       422.00\n",
       "256       franklin Park       421.00\n",
       "36    Chicago Ridgeland       395.00\n",
       "247        calumet city       392.00\n",
       "205           Schaumurg       359.00\n",
       "275      mount prospect       335.00\n",
       "134             Matthew       325.00\n",
       "294              skokie       323.00\n",
       "245          brookfield       305.00\n",
       "32      Chicago Halsted       294.00\n",
       "66                Eglin       256.00\n",
       "112     Hoffman estates       224.00\n",
       "259        hanover park       204.00\n",
       "136         Maywood, IL       176.00\n",
       "199            Rvanston       149.45\n",
       "243          bridgeview       145.00\n",
       "6            BRIDGEVIEW       129.00\n",
       "105        Hickory Hill       100.00\n",
       "\n",
       "[298 rows x 2 columns]"
      ]
     },
     "execution_count": 9,
     "metadata": {},
     "output_type": "execute_result"
    }
   ],
   "source": [
    "forfeitures.groupby(['SeizeCity']).EstValue.sum().reset_index().sort_values(\"EstValue\", ascending=False)"
   ]
  },
  {
   "cell_type": "code",
   "execution_count": null,
   "metadata": {
    "collapsed": true
   },
   "outputs": [],
   "source": []
  }
 ],
 "metadata": {
  "kernelspec": {
   "display_name": "Python 3",
   "language": "python",
   "name": "python3"
  },
  "language_info": {
   "codemirror_mode": {
    "name": "ipython",
    "version": 3
   },
   "file_extension": ".py",
   "mimetype": "text/x-python",
   "name": "python",
   "nbconvert_exporter": "python",
   "pygments_lexer": "ipython3",
   "version": "3.5.3"
  }
 },
 "nbformat": 4,
 "nbformat_minor": 0
}
